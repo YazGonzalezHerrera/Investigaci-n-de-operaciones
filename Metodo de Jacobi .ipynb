{
  "nbformat": 4,
  "nbformat_minor": 0,
  "metadata": {
    "colab": {
      "provenance": [],
      "authorship_tag": "ABX9TyOSW2rNE0Uhu3lkm4DTfUMy",
      "include_colab_link": true
    },
    "kernelspec": {
      "name": "python3",
      "display_name": "Python 3"
    },
    "language_info": {
      "name": "python"
    }
  },
  "cells": [
    {
      "cell_type": "markdown",
      "metadata": {
        "id": "view-in-github",
        "colab_type": "text"
      },
      "source": [
        "<a href=\"https://colab.research.google.com/github/YazGonzalezHerrera/Investigaci-n-de-operaciones/blob/main/Metodo%20de%20Jacobi%20.ipynb\" target=\"_parent\"><img src=\"https://colab.research.google.com/assets/colab-badge.svg\" alt=\"Open In Colab\"/></a>"
      ]
    },
    {
      "cell_type": "markdown",
      "source": [
        "**Método de Jacobi**"
      ],
      "metadata": {
        "id": "ud6TeLkhCpLG"
      }
    },
    {
      "cell_type": "code",
      "execution_count": 37,
      "metadata": {
        "colab": {
          "base_uri": "https://localhost:8080/"
        },
        "id": "y_mEnkUtCHhl",
        "outputId": "5e052bb2-e7e7-4a3e-a115-4f0200beec18"
      },
      "outputs": [
        {
          "output_type": "stream",
          "name": "stdout",
          "text": [
            "Convergencia alcanzada en 32 iteraciones\n",
            "Solución: x = [0.1945 0.4165 0.3615 0.5835]\n",
            "Iteraciones: 32\n"
          ]
        }
      ],
      "source": [
        "import numpy as np\n",
        "def jacobi(A, b, x0 = None, tol = 1e-10, max_iter = 100):\n",
        "  #A: Matriz de coeficientes.\n",
        "  #b: Vector de términos independientes.\n",
        "  #x0: Aproximación inicial.\n",
        "  #Max_iter: Número máximo de iteraciones.\n",
        "\n",
        "  n = len(b)\n",
        "\n",
        "  #Aproximación inicial (vector)\n",
        "  if x0 is None:\n",
        "    x0 = np.zeros(n)\n",
        "  x = x0.copy()\n",
        "\n",
        "  #Verificar que los elementos diagonales no sean cero\n",
        "  if np.any(np.diag(A) == 0):\n",
        "    raise ValueError(\"La matriz tiene elementos diagonales cero\")\n",
        "\n",
        "  #Iteración del método\n",
        "  for k in range(max_iter):\n",
        "    x_new = np.zeros(n)\n",
        "\n",
        "    for i in range(n):\n",
        "      #Suma de a_ij * x_j para j ≠ i\n",
        "      suma = 0\n",
        "      for j in range(n):\n",
        "        if j != i:\n",
        "          suma += A[i, j] * x[j]\n",
        "\n",
        "      #Nueva aproximacion para x_i\n",
        "      x_new[i] = (b[i] - suma) / A[i, i]\n",
        "\n",
        "    #Criterio de convergencia\n",
        "    error = np.linalg.norm(x_new - x, np.inf)\n",
        "\n",
        "    if error < tol:\n",
        "      print(f\"Convergencia alcanzada en {k+1} iteraciones\")\n",
        "      return x_new, k+1\n",
        "\n",
        "    x = x_new\n",
        "\n",
        "  print(f\"Máximo número de iteraciones alcanzado ({max_iter})\")\n",
        "  return x, max_iter\n",
        "\n",
        "#Ejemplo en clase\n",
        "if __name__ == \"__main__\":\n",
        "\n",
        "  #Sistema:\n",
        "  #x = 0.25*y + 0.25*z\n",
        "  #y = 0.25*x + 0.25*w + 0.222\n",
        "  #z = 0.25*x + 0.25*w + 0.167\n",
        "  #w = 0.25*y + 0.25*z + 0.875\n",
        "\n",
        "  A = np.array([[-1.0, 0.25, 0.25, 0.0],\n",
        "                [0.25, -1.0, 0.0, 0.25],\n",
        "                [0.25, 0.0, -1.0, 0.25],\n",
        "                [0.0, 0.25, 0.25, -1.0]])\n",
        "\n",
        "  b = np.array([0.0, -0.222, -0.167, -0.389])\n",
        "\n",
        "  #Resolver\n",
        "  solucion, iteraciones = jacobi(A, b)\n",
        "\n",
        "  print(f\"Solución: x = {solucion}\")\n",
        "  print(f\"Iteraciones: {iteraciones}\")"
      ]
    }
  ]
}